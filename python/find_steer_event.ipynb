{
 "cells": [
  {
   "cell_type": "code",
   "execution_count": null,
   "metadata": {
    "ExecuteTime": {
     "end_time": "2017-12-05T18:32:08.400865Z",
     "start_time": "2017-12-05T18:32:08.386082Z"
    }
   },
   "outputs": [],
   "source": [
    "\"\"\"TODO\n",
    " - determine bounds on distance error (bicycle to obstacle) corresponding to time sync error\n",
    "\"\"\""
   ]
  },
  {
   "cell_type": "code",
   "execution_count": 1,
   "metadata": {
    "ExecuteTime": {
     "end_time": "2017-12-06T11:32:26.593564Z",
     "start_time": "2017-12-06T11:32:24.765855Z"
    }
   },
   "outputs": [],
   "source": [
    "import os\n",
    "import subprocess\n",
    "import numpy as np\n",
    "import scipy\n",
    "import matplotlib\n",
    "import matplotlib.pyplot as plt\n",
    "import seaborn as sns\n",
    "\n",
    "import lidar\n",
    "import util"
   ]
  },
  {
   "cell_type": "code",
   "execution_count": null,
   "metadata": {
    "ExecuteTime": {
     "end_time": "2017-12-06T11:11:33.770175Z",
     "start_time": "2017-12-06T11:11:33.093024Z"
    }
   },
   "outputs": [],
   "source": [
    "# run cell for interactive plots\n",
    "import mpld3\n",
    "mpld3.enable_notebook()\n",
    "\n",
    "%load_ext autoreload\n",
    "%autoreload 2"
   ]
  },
  {
   "cell_type": "code",
   "execution_count": null,
   "metadata": {
    "ExecuteTime": {
     "end_time": "2017-12-06T09:50:19.292638Z",
     "start_time": "2017-12-06T09:50:19.256647Z"
    }
   },
   "outputs": [],
   "source": [
    "def set_title(ax, title):\n",
    "    try:\n",
    "        mpld3\n",
    "    except NameError:\n",
    "        ax.figure.suptitle(title)\n",
    "    else:\n",
    "        ax.set_title(title)"
   ]
  },
  {
   "cell_type": "code",
   "execution_count": 2,
   "metadata": {
    "ExecuteTime": {
     "end_time": "2017-12-06T11:32:28.192773Z",
     "start_time": "2017-12-06T11:32:28.189365Z"
    }
   },
   "outputs": [],
   "source": [
    "DEFAULT_FIGSIZE = (14, 7)"
   ]
  },
  {
   "cell_type": "code",
   "execution_count": null,
   "metadata": {
    "ExecuteTime": {
     "start_time": "2017-12-06T11:32:30.220Z"
    }
   },
   "outputs": [],
   "source": [
    "records = lidar.load_records(sync=False)"
   ]
  },
  {
   "cell_type": "code",
   "execution_count": null,
   "metadata": {
    "ExecuteTime": {
     "end_time": "2017-12-06T11:28:18.623632Z",
     "start_time": "2017-12-06T11:28:17.181098Z"
    },
    "scrolled": false
   },
   "outputs": [],
   "source": [
    "records[0].plot_timeseries(trial=5, figsize=DEFAULT_FIGSIZE)\n",
    "plt.show()"
   ]
  }
 ],
 "metadata": {
  "kernelspec": {
   "display_name": "Python [conda env:dev]",
   "language": "python",
   "name": "conda-env-dev-py"
  },
  "language_info": {
   "codemirror_mode": {
    "name": "ipython",
    "version": 3
   },
   "file_extension": ".py",
   "mimetype": "text/x-python",
   "name": "python",
   "nbconvert_exporter": "python",
   "pygments_lexer": "ipython3",
   "version": "3.5.3"
  }
 },
 "nbformat": 4,
 "nbformat_minor": 2
}
