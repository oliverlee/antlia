{
 "cells": [
  {
   "cell_type": "code",
   "execution_count": 4,
   "metadata": {
    "ExecuteTime": {
     "end_time": "2018-07-11T09:37:31.930880Z",
     "start_time": "2018-07-11T09:37:29.324565Z"
    }
   },
   "outputs": [],
   "source": [
    "%matplotlib notebook\n",
    "DEFAULT_FIGSIZE = (12, 8)\n",
    "\n",
    "import sys\n",
    "\n",
    "import numpy as np\n",
    "import matplotlib.pyplot as plt\n",
    "import matplotlib.lines as mlines\n",
    "import matplotlib.patches as mpatches\n",
    "import seaborn as sns\n",
    "sns.set_style('darkgrid', {'legend.frameon': True})\n",
    "import pandas as pd\n",
    "\n",
    "sys.path.append('..')\n",
    "from antlia import exp2\n",
    "from antlia import kalman\n",
    "from antlia import plot_braking as braking\n",
    "from antlia import dtc\n",
    "from antlia.plotdf import plotjoint\n",
    "\n",
    "%load_ext autoreload\n",
    "%autoreload 2\n",
    "\n",
    "import matplotlib as mpl\n",
    "mpl.rcParams['figure.figsize'] = DEFAULT_FIGSIZE\n",
    "mpl.rcParams['legend.facecolor'] = 'white'"
   ]
  },
  {
   "cell_type": "code",
   "execution_count": 5,
   "metadata": {
    "ExecuteTime": {
     "end_time": "2018-07-11T09:37:32.162028Z",
     "start_time": "2018-07-11T09:37:31.934143Z"
    }
   },
   "outputs": [
    {
     "ename": "NameError",
     "evalue": "name 'os' is not defined",
     "output_type": "error",
     "traceback": [
      "\u001b[0;31m---------------------------------------------------------------------------\u001b[0m",
      "\u001b[0;31mNameError\u001b[0m                                 Traceback (most recent call last)",
      "\u001b[0;32m<ipython-input-5-a4c786821b92>\u001b[0m in \u001b[0;36m<module>\u001b[0;34m()\u001b[0m\n\u001b[0;32m----> 1\u001b[0;31m \u001b[0mrecords\u001b[0m \u001b[0;34m=\u001b[0m \u001b[0mexp2\u001b[0m\u001b[0;34m.\u001b[0m\u001b[0mload_records\u001b[0m\u001b[0;34m(\u001b[0m\u001b[0mindex\u001b[0m\u001b[0;34m=\u001b[0m\u001b[0mslice\u001b[0m\u001b[0;34m(\u001b[0m\u001b[0;36m0\u001b[0m\u001b[0;34m,\u001b[0m \u001b[0;36m8\u001b[0m\u001b[0;34m)\u001b[0m\u001b[0;34m)\u001b[0m\u001b[0;34m\u001b[0m\u001b[0m\n\u001b[0m",
      "\u001b[0;32m~/repos/antlia/python/antlia/exp2.py\u001b[0m in \u001b[0;36mload_records\u001b[0;34m(index, data_dir)\u001b[0m\n\u001b[1;32m    106\u001b[0m     \"\"\"\n\u001b[1;32m    107\u001b[0m     \u001b[0;32mif\u001b[0m \u001b[0mdata_dir\u001b[0m \u001b[0;32mis\u001b[0m \u001b[0;32mNone\u001b[0m\u001b[0;34m:\u001b[0m\u001b[0;34m\u001b[0m\u001b[0m\n\u001b[0;32m--> 108\u001b[0;31m         data_dir = os.path.join(os.path.dirname(__file__),\n\u001b[0m\u001b[1;32m    109\u001b[0m                                 r'../../data/comfort/')\n\u001b[1;32m    110\u001b[0m \u001b[0;34m\u001b[0m\u001b[0m\n",
      "\u001b[0;31mNameError\u001b[0m: name 'os' is not defined"
     ]
    }
   ],
   "source": [
    "records = exp2.load_records(index=slice(0, 8))"
   ]
  },
  {
   "cell_type": "code",
   "execution_count": 6,
   "metadata": {
    "ExecuteTime": {
     "end_time": "2018-07-11T09:00:56.721751Z",
     "start_time": "2018-07-11T09:00:45.869343Z"
    }
   },
   "outputs": [],
   "source": [
    "# generate Kalman matrices\n",
    "f, h, F, H = kalman.generate_fhFH(\n",
    "    constant_velocity=True,\n",
    "    wheelbase=0.6)"
   ]
  },
  {
   "cell_type": "code",
   "execution_count": 7,
   "metadata": {
    "ExecuteTime": {
     "end_time": "2018-07-11T09:00:56.784364Z",
     "start_time": "2018-07-11T09:00:56.724033Z"
    }
   },
   "outputs": [],
   "source": [
    "T = 1/125 # bicycle sample rate\n",
    "q0 = 1\n",
    "q1 = 0.01\n",
    "Q = 1*np.diag([\n",
    "    q0*T**3/6, # [m] x-position\n",
    "    q0*T**3/6, # [m] y-position\n",
    "    q1*T**2/2, # [rad/s] yaw angle\n",
    "    q0*T**2/2, # [m/s] velocity \n",
    "    q1*T, # [rad/s] yaw rate\n",
    "    q0*T, # [m/s^2] acceleration\n",
    "])\n",
    "\n",
    "P0 = np.diag([\n",
    "    0.1,\n",
    "    0.1,\n",
    "    0.01,\n",
    "    1,\n",
    "    0.1,\n",
    "    0.2\n",
    "])"
   ]
  },
  {
   "cell_type": "code",
   "execution_count": 345,
   "metadata": {
    "ExecuteTime": {
     "end_time": "2018-06-28T13:26:22.889758Z",
     "start_time": "2018-06-28T13:26:22.649769Z"
    }
   },
   "outputs": [],
   "source": [
    "braking_df = pd.read_pickle('trial2_braking_ttc.p.gz')"
   ]
  },
  {
   "cell_type": "code",
   "execution_count": 351,
   "metadata": {
    "ExecuteTime": {
     "end_time": "2018-06-28T13:27:31.926619Z",
     "start_time": "2018-06-28T13:27:31.870717Z"
    }
   },
   "outputs": [
    {
     "data": {
      "text/plain": [
       "128.377805"
      ]
     },
     "execution_count": 351,
     "metadata": {},
     "output_type": "execute_result"
    }
   ],
   "source": [
    "braking_df[(braking_df['rider id'] == 0) & (braking_df['trial id'] == 0)]['braking starttime'].values[0]"
   ]
  },
  {
   "cell_type": "code",
   "execution_count": 1,
   "metadata": {
    "ExecuteTime": {
     "end_time": "2018-07-11T09:07:54.150717Z",
     "start_time": "2018-07-11T09:07:53.015186Z"
    },
    "scrolled": false
   },
   "outputs": [
    {
     "ename": "NameError",
     "evalue": "name 'plt' is not defined",
     "output_type": "error",
     "traceback": [
      "\u001b[0;31m---------------------------------------------------------------------------\u001b[0m",
      "\u001b[0;31mNameError\u001b[0m                                 Traceback (most recent call last)",
      "\u001b[0;32m<ipython-input-1-f2ab59e0f9ee>\u001b[0m in \u001b[0;36m<module>\u001b[0;34m()\u001b[0m\n\u001b[1;32m     14\u001b[0m     \u001b[0;32mreturn\u001b[0m \u001b[0mx\u001b[0m\u001b[0;34m/\u001b[0m\u001b[0mx\u001b[0m\u001b[0;34m.\u001b[0m\u001b[0msize\u001b[0m\u001b[0;34m\u001b[0m\u001b[0m\n\u001b[1;32m     15\u001b[0m \u001b[0;34m\u001b[0m\u001b[0m\n\u001b[0;32m---> 16\u001b[0;31m \u001b[0mplt\u001b[0m\u001b[0;34m.\u001b[0m\u001b[0mclose\u001b[0m\u001b[0;34m(\u001b[0m\u001b[0;34m'all'\u001b[0m\u001b[0;34m)\u001b[0m\u001b[0;34m\u001b[0m\u001b[0m\n\u001b[0m\u001b[1;32m     17\u001b[0m \u001b[0;32mfor\u001b[0m \u001b[0mi\u001b[0m\u001b[0;34m,\u001b[0m \u001b[0mr\u001b[0m \u001b[0;32min\u001b[0m \u001b[0menumerate\u001b[0m\u001b[0;34m(\u001b[0m\u001b[0mrecords\u001b[0m\u001b[0;34m)\u001b[0m\u001b[0;34m:\u001b[0m\u001b[0;34m\u001b[0m\u001b[0m\n\u001b[1;32m     18\u001b[0m     \u001b[0mR\u001b[0m \u001b[0;34m=\u001b[0m \u001b[0mkalman\u001b[0m\u001b[0;34m.\u001b[0m\u001b[0mgenerate_R\u001b[0m\u001b[0;34m(\u001b[0m\u001b[0mr\u001b[0m\u001b[0;34m)\u001b[0m\u001b[0;34m\u001b[0m\u001b[0m\n",
      "\u001b[0;31mNameError\u001b[0m: name 'plt' is not defined"
     ]
    }
   ],
   "source": [
    "import scipy.stats\n",
    "\n",
    "tol = [0, 0, 0, 0]\n",
    "\n",
    "linregress_kf = []\n",
    "linregress_ks = []\n",
    "\n",
    "def velocity_error(event, result):\n",
    "    v_measured = event.bicycle.speed\n",
    "    v_estimated = result.state_estimate[:, 3].squeeze()\n",
    "    assert v_measured.shape == v_estimated.shape\n",
    "    \n",
    "    x = np.square(v_measured - v_estimated).sum()\n",
    "    return x/x.size\n",
    "\n",
    "plt.close('all')\n",
    "for i, r in enumerate(records):\n",
    "    R = kalman.generate_R(r)\n",
    "    \n",
    "    for j, tr in enumerate(r.trials):\n",
    "        event = tr.event\n",
    "        #if event.type.value != trial2.EventType.Braking.value:\n",
    "        #    continue\n",
    "        #    \n",
    "        #if (i, j) not in error_set:\n",
    "        #    continue\n",
    "        \n",
    "        z = kalman.generate_measurement(event)\n",
    "        x0 = kalman.initial_state_estimate(z)\n",
    "        x0[0] = event.x.max()\n",
    "        a, b = event.x.max(axis=1)[[0, 20]]\n",
    "        v = a - b\n",
    "        if v > 3 and v < 7:\n",
    "            x0[3] = v \n",
    "        assert x0[0] > 20, 'initial x: {:0.3f}'.format(x0[0])\n",
    "        assert x0[1] > 2.0 and x0[1] < 3.5, 'initial y: {:0.3f}'.format(x0[1])\n",
    "        assert x0[3] > 1, 'initial velocity: {:0.3f}'.format(x0[3])\n",
    "        print('rider {} trial {}'.format(i, j))\n",
    "        print('x0:', x0)\n",
    "        \n",
    "        KF = kalman.Kalman(F, H, Q, R, f, h)\n",
    "        result = KF.estimate(x0, P0, z, tol)\n",
    "        smooth = KF.smooth_estimate(result)\n",
    "        ve_kf = velocity_error(event, result)\n",
    "        ve_ks = velocity_error(event, smooth)\n",
    "        print('KF v error:', ve_kf)\n",
    "        print('KS v error:', ve_ks)\n",
    "        \n",
    "        #if (ve_ks > 2000) or ((i, j) == (3, 12)):\n",
    "        if True:\n",
    "            fig, ax = kalman.plot_kalman_result(result, event, smooth,\n",
    "                                                wheelbase=0.6,\n",
    "                                                ax_mask=[1, 0, 0, 1, 0],\n",
    "                                                figsize=(12, 12))\n",
    "            # draw instructed speed\n",
    "            v_inst = exp2.instructed_speed(i, j)\n",
    "            ax[1].plot(event.bicycle.time[[0, -1]], 2*[v_inst],\n",
    "                       color='black', linestyle='--',\n",
    "                       label='instructed speed')\n",
    "            ax[1].legend()\n",
    "            plt.show()\n",
    "        \n",
    "        #v_kf = result.state_estimate[:, 3].squeeze()\n",
    "        #v_ks = smooth.state_estimate[:, 3].squeeze()\n",
    "        #\n",
    "        #df_ij = braking_df[(braking_df['rider id'] == i) &\n",
    "        #                   (braking_df['trial id'] == j)]\n",
    "        #\n",
    "        #t = event.bicycle.time\n",
    "        #t0 = df_ij['braking starttime'].values[0]\n",
    "        #tf = df_ij['braking endtime'].values[0]\n",
    "        #index = (t >= t0) & (t <= tf)\n",
    "        #\n",
    "        ## best-fit line metrics\n",
    "        #linregress_kf.append(scipy.stats.linregress(\n",
    "        #    t[index],\n",
    "        #    v_kf[index]))\n",
    "        #linregress_ks.append(scipy.stats.linregress(\n",
    "        #    t[index],\n",
    "        #    v_ks[index]))"
   ]
  },
  {
   "cell_type": "code",
   "execution_count": 364,
   "metadata": {
    "ExecuteTime": {
     "end_time": "2018-06-28T13:41:41.391437Z",
     "start_time": "2018-06-28T13:41:41.129616Z"
    }
   },
   "outputs": [],
   "source": [
    "df_kf = pd.DataFrame(linregress_kf,\n",
    "                     columns=[\n",
    "                         'linregress slope',\n",
    "                         'linregress intercept',\n",
    "                         'linregress r-value',\n",
    "                         'linregress p-value',\n",
    "                         'linregress stderr',\n",
    "                     ])\n",
    "df_ks = pd.DataFrame(linregress_ks,\n",
    "                     columns=[\n",
    "                         'linregress slope',\n",
    "                         'linregress intercept',\n",
    "                         'linregress r-value',\n",
    "                         'linregress p-value',\n",
    "                         'linregress stderr',\n",
    "                     ])"
   ]
  },
  {
   "cell_type": "code",
   "execution_count": 371,
   "metadata": {
    "ExecuteTime": {
     "end_time": "2018-06-28T13:53:15.495184Z",
     "start_time": "2018-06-28T13:53:15.365431Z"
    }
   },
   "outputs": [
    {
     "name": "stdout",
     "output_type": "stream",
     "text": [
      "skipping 1-5 due to invalid deceleration\n",
      "skipping 2-0 due to wheel lockup\n",
      "skipping 2-2 due to wheel lockup\n",
      "skipping 4-1 due to invalid deceleration\n",
      "\n",
      "stats using kalman filter:\n",
      "Ttest_relResult(statistic=1.1028376230902326, pvalue=0.27410282979955575)\n",
      "LinregressResult(slope=0.90755010021632032, intercept=-0.17397458497520391, rvalue=0.9580272659858079, pvalue=5.5258803233922315e-37, stderr=0.03368441880573874)\n",
      "mean:  -1.58922365019\n",
      "\n",
      "stats using kalman smoother:\n",
      "Ttest_relResult(statistic=-0.47639047971251658, pvalue=0.63536959552947725)\n",
      "LinregressResult(slope=0.8244311953069674, intercept=-0.25846734033889929, rvalue=0.94238172300863177, pvalue=1.2819044767984043e-32, stderr=0.036300976565419668)\n",
      "mean:  -1.54409937125\n",
      "\n",
      "mean(from measured):  -1.55941701166\n"
     ]
    }
   ],
   "source": [
    "slope = []\n",
    "slope_kf = []\n",
    "slope_ks = []\n",
    "\n",
    "for (_, row), (_, row_kf), (_, row_ks) in zip(braking_df.iterrows(),\n",
    "                                              df_kf.iterrows(),\n",
    "                                              df_ks.iterrows()):\n",
    "    a = row['linregress slope']\n",
    "    b = row_kf['linregress slope']\n",
    "    c = row_ks['linregress slope']\n",
    "    \n",
    "    # skip trial if wheel lockup occurs\n",
    "    if row['lockup ranges']:\n",
    "        print('skipping {}-{} due to wheel lockup'.format(\n",
    "            int(row['rider id']), int(row['trial id'])))\n",
    "        continue\n",
    "        \n",
    "    # skip trial if either fit value exceeds 4 m/s^2\n",
    "    if abs(a) > 4 or abs(b) > 4 or abs(c) > 4:\n",
    "        print('skipping {}-{} due to invalid deceleration'.format(\n",
    "            int(row['rider id']), int(row['trial id'])))\n",
    "        continue\n",
    "    slope.append(a)\n",
    "    slope_kf.append(b)\n",
    "    slope_ks.append(c)\n",
    "    \n",
    "print('\\nstats using kalman filter:')\n",
    "print(scipy.stats.ttest_rel(slope, slope_kf))\n",
    "print(scipy.stats.linregress(slope, slope_kf))\n",
    "print('mean: ', np.mean(slope_kf))\n",
    "    \n",
    "print('\\nstats using kalman smoother:')\n",
    "print(scipy.stats.ttest_rel(slope, slope_ks))\n",
    "print(scipy.stats.linregress(slope, slope_ks))\n",
    "print('mean: ', np.mean(slope_ks))\n",
    "\n",
    "print('\\nmean(from measured): ', np.mean(slope))"
   ]
  },
  {
   "cell_type": "code",
   "execution_count": 381,
   "metadata": {
    "ExecuteTime": {
     "end_time": "2018-06-28T14:35:57.259336Z",
     "start_time": "2018-06-28T14:35:57.078291Z"
    }
   },
   "outputs": [
    {
     "name": "stdout",
     "output_type": "stream",
     "text": [
      "skipping: 1-3, 1-5, 1-9, 1-15, 1-17, 2-1, 2-2, 2-7, 3-15, 3-16, 3-17, 4-1, 4-2, 4-6, 4-7, 4-12, 7-17\n",
      "\n",
      "stats using kalman filter:\n",
      "Ttest_relResult(statistic=5.2430817581494145, pvalue=2.805992169961336e-06)\n",
      "LinregressResult(slope=1.0175515458178641, intercept=-0.063005359230778657, rvalue=0.98476883071055832, pvalue=3.4656802501645223e-41, stderr=0.024913918565687185)\n",
      "mean:  -1.5873600947\n",
      "\n",
      "stats using kalman smoother:\n",
      "Ttest_relResult(statistic=2.1799448590265116, pvalue=0.033724338070094728)\n",
      "LinregressResult(slope=0.91769629251235874, intercept=-0.17362211369339398, rvalue=0.96989415610722118, pvalue=1.42908060436185e-33, stderr=0.031953601252120448)\n",
      "mean:  -1.54838754446\n",
      "\n",
      "mean(from measured):  -1.49806144144\n"
     ]
    }
   ],
   "source": [
    "slope = []\n",
    "slope_kf = []\n",
    "slope_ks = []\n",
    "\n",
    "invalid_set = {\n",
    "    (1, 3),\n",
    "    (1, 5),\n",
    "    (1, 9),\n",
    "    (1, 15),\n",
    "    (1, 17),\n",
    "    (2, 1),\n",
    "    (2, 2),\n",
    "    (2, 7),\n",
    "    (3, 15),\n",
    "    (3, 16),\n",
    "    (3, 17),\n",
    "    (4, 1),\n",
    "    (4, 2),\n",
    "    (4, 6),\n",
    "    (4, 7),\n",
    "    (4, 12),\n",
    "    (7, 17)\n",
    "}\n",
    "    \n",
    "skipped = []\n",
    "for (_, row), (_, row_kf), (_, row_ks) in zip(braking_df.iterrows(),\n",
    "                                              df_kf.iterrows(),\n",
    "                                              df_ks.iterrows()):\n",
    "    a = row['linregress slope']\n",
    "    b = row_kf['linregress slope']\n",
    "    c = row_ks['linregress slope']\n",
    "    \n",
    "    i = int(row['rider id'])\n",
    "    j = int(row['trial id'])\n",
    "    \n",
    "    # skip invalid trials\n",
    "    if (i, j) in invalid_set:\n",
    "        skipped.append('{}-{}'.format(i, j))\n",
    "        continue\n",
    "        \n",
    "    slope.append(a)\n",
    "    slope_kf.append(b)\n",
    "    slope_ks.append(c)\n",
    "    \n",
    "print('skipping: {}'.format(', '.join(skipped)))\n",
    "\n",
    "print('\\nstats using kalman filter:')\n",
    "print(scipy.stats.ttest_rel(slope, slope_kf))\n",
    "print(scipy.stats.linregress(slope, slope_kf))\n",
    "print('mean: ', np.mean(slope_kf))\n",
    "    \n",
    "print('\\nstats using kalman smoother:')\n",
    "print(scipy.stats.ttest_rel(slope, slope_ks))\n",
    "print(scipy.stats.linregress(slope, slope_ks))\n",
    "print('mean: ', np.mean(slope_ks))\n",
    "\n",
    "print('\\nmean(from measured): ', np.mean(slope))"
   ]
  }
 ],
 "metadata": {
  "kernelspec": {
   "display_name": "Python 3",
   "language": "python",
   "name": "python3"
  },
  "language_info": {
   "codemirror_mode": {
    "name": "ipython",
    "version": 3
   },
   "file_extension": ".py",
   "mimetype": "text/x-python",
   "name": "python",
   "nbconvert_exporter": "python",
   "pygments_lexer": "ipython3",
   "version": "3.5.4"
  }
 },
 "nbformat": 4,
 "nbformat_minor": 2
}
