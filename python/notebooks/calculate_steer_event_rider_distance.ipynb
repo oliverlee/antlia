{
 "cells": [
  {
   "cell_type": "code",
   "execution_count": 1,
   "metadata": {
    "ExecuteTime": {
     "end_time": "2017-12-18T13:05:44.732401Z",
     "start_time": "2017-12-18T13:05:42.729845Z"
    }
   },
   "outputs": [],
   "source": [
    "import itertools\n",
    "import sys\n",
    "\n",
    "import matplotlib.pyplot as plt\n",
    "\n",
    "sys.path.append('..')\n",
    "from antlia import lidar\n",
    "from antlia import util\n",
    "\n",
    "%load_ext autoreload\n",
    "%autoreload 2"
   ]
  },
  {
   "cell_type": "code",
   "execution_count": 2,
   "metadata": {
    "ExecuteTime": {
     "end_time": "2017-12-18T13:05:44.771016Z",
     "start_time": "2017-12-18T13:05:44.734474Z"
    },
    "collapsed": true
   },
   "outputs": [],
   "source": [
    "def set_title(ax, title):\n",
    "    try:\n",
    "        mpld3\n",
    "    except NameError:\n",
    "        ax.figure.suptitle(title)\n",
    "    else:\n",
    "        ax.set_title(title)\n",
    "        \n",
    "DEFAULT_FIGSIZE = (14, 7)"
   ]
  },
  {
   "cell_type": "code",
   "execution_count": 3,
   "metadata": {
    "ExecuteTime": {
     "end_time": "2017-12-18T13:06:07.799377Z",
     "start_time": "2017-12-18T13:05:50.033246Z"
    }
   },
   "outputs": [
    {
     "name": "stdout",
     "output_type": "stream",
     "text": [
      "Unable to determine range 2\n",
      "Unable to determine range 1\n"
     ]
    }
   ],
   "source": [
    "records = lidar.load_records(sync=True)"
   ]
  },
  {
   "cell_type": "code",
   "execution_count": 56,
   "metadata": {
    "ExecuteTime": {
     "end_time": "2017-12-18T13:34:48.601706Z",
     "start_time": "2017-12-18T13:34:48.447514Z"
    },
    "scrolled": false
   },
   "outputs": [
    {
     "name": "stdout",
     "output_type": "stream",
     "text": [
      "[False False False False False False False False False False False False\n",
      " False False False False False False False False False False False False\n",
      " False False False False False False False False False False False False\n",
      " False False False False False False False False False False False False\n",
      " False False False False False False False False False False False False\n",
      " False False False False False False False False False False False False\n",
      " False False False False False False False  True  True  True  True  True\n",
      "  True  True  True  True  True  True  True  True  True  True  True  True\n",
      "  True  True  True  True  True  True  True  True  True  True  True  True\n",
      "  True]\n",
      "[-4.66662794 -4.66861888 -4.67647985 -4.68530595 -4.75308674 -4.9388894\n",
      " -4.94382562 -4.98219805 -4.98415171 -5.09441051 -5.20768395 -5.21851933\n",
      " -5.2707453  -5.87234447 -5.8744744  -5.66042416 -5.65057374 -5.61402053\n",
      " -5.61594704 -5.61784683 -5.5831383  -5.54640096 -5.50565473 -5.48365833\n",
      " -5.48537991 -5.47618242 -5.47784845 -5.47453408 -5.46326145 -5.47773286]\n"
     ]
    },
    {
     "ename": "NameError",
     "evalue": "name 'stop' is not defined",
     "output_type": "error",
     "traceback": [
      "\u001b[0;31m---------------------------------------------------------------------------\u001b[0m",
      "\u001b[0;31mNameError\u001b[0m                                 Traceback (most recent call last)",
      "\u001b[0;32m<ipython-input-56-4966a8481ea3>\u001b[0m in \u001b[0;36m<module>\u001b[0;34m()\u001b[0m\n\u001b[1;32m     30\u001b[0m     \u001b[0mprint\u001b[0m\u001b[0;34m(\u001b[0m\u001b[0mindex0\u001b[0m\u001b[0;34m)\u001b[0m\u001b[0;34m\u001b[0m\u001b[0m\n\u001b[1;32m     31\u001b[0m     \u001b[0mprint\u001b[0m\u001b[0;34m(\u001b[0m\u001b[0mx\u001b[0m\u001b[0;34m[\u001b[0m\u001b[0;36m0\u001b[0m\u001b[0;34m]\u001b[0m\u001b[0;34m.\u001b[0m\u001b[0mcompressed\u001b[0m\u001b[0;34m(\u001b[0m\u001b[0;34m)\u001b[0m\u001b[0;34m[\u001b[0m\u001b[0mindex0\u001b[0m\u001b[0;34m]\u001b[0m\u001b[0;34m)\u001b[0m\u001b[0;34m\u001b[0m\u001b[0m\n\u001b[0;32m---> 32\u001b[0;31m     \u001b[0mstop\u001b[0m\u001b[0;34m\u001b[0m\u001b[0m\n\u001b[0m\u001b[1;32m     33\u001b[0m \u001b[0;34m\u001b[0m\u001b[0m\n\u001b[1;32m     34\u001b[0m     \u001b[0mfig\u001b[0m\u001b[0;34m,\u001b[0m \u001b[0max\u001b[0m \u001b[0;34m=\u001b[0m \u001b[0mplt\u001b[0m\u001b[0;34m.\u001b[0m\u001b[0msubplots\u001b[0m\u001b[0;34m(\u001b[0m\u001b[0mfigsize\u001b[0m\u001b[0;34m=\u001b[0m\u001b[0mDEFAULT_FIGSIZE\u001b[0m\u001b[0;34m)\u001b[0m\u001b[0;34m\u001b[0m\u001b[0m\n",
      "\u001b[0;31mNameError\u001b[0m: name 'stop' is not defined"
     ]
    }
   ],
   "source": [
    "import numpy as np\n",
    "import seaborn as sns\n",
    "from sklearn.cluster import KMeans\n",
    "\n",
    "plt.close()\n",
    "for rid, tid in itertools.product(range(3, 4), range(15)):\n",
    "    if (rid == 0) and (tid == 1):\n",
    "        continue\n",
    "        \n",
    "    record = records[rid]\n",
    "    trial = record.trial[tid]\n",
    "    \n",
    "    ev_time, _, _ = trial.steer_event_parameters()\n",
    "    index = record.lidar.frame_index(ev_time[0])\n",
    "    \n",
    "    # get index before time 0\n",
    "    #index = np.insert(index, 0, index[0] - 1)\n",
    "    \n",
    "    frames = record.lidar[index]\n",
    "    xlim = (-19, 1)\n",
    "    ylim = (-1, 3)\n",
    "    x, y = frames.cartesian(xlim=xlim, ylim=(0.5, 3))\n",
    "    \n",
    "    # get clusters\n",
    "    X = np.vstack((x.compressed(),\n",
    "                   y.compressed())).transpose()\n",
    "    kmeans = KMeans(2).fit(X)\n",
    "    index0 = kmeans.labels_ == 0\n",
    "    index1 = kmeans.labels_ == 1\n",
    "    stop\n",
    "    \n",
    "    fig, ax = plt.subplots(figsize=DEFAULT_FIGSIZE)\n",
    "    colors = sns.color_palette('Paired', 10)[1::2]\n",
    "    ax.plot(x[0].compressed()[index0],\n",
    "            y[0].compressed()[index0],\n",
    "            'X', color=colors[0])\n",
    "    ax.plot(x[0].compressed()[index1],\n",
    "            y[0].compressed()[index1],\n",
    "            'X', color=colors[1])\n",
    "    #ax.plot(x[1], y[1], 'X')\n",
    "    ax.set_xlim(xlim)\n",
    "    ax.set_ylim(ylim)\n",
    "    \n",
    "plt.show()"
   ]
  }
 ],
 "metadata": {
  "kernelspec": {
   "display_name": "Python [conda env:dev]",
   "language": "python",
   "name": "conda-env-dev-py"
  },
  "language_info": {
   "codemirror_mode": {
    "name": "ipython",
    "version": 3
   },
   "file_extension": ".py",
   "mimetype": "text/x-python",
   "name": "python",
   "nbconvert_exporter": "python",
   "pygments_lexer": "ipython3",
   "version": "3.5.3"
  }
 },
 "nbformat": 4,
 "nbformat_minor": 2
}
