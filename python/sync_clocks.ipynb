{
 "cells": [
  {
   "cell_type": "code",
   "execution_count": 1,
   "metadata": {
    "ExecuteTime": {
     "end_time": "2017-12-01T17:17:07.567926Z",
     "start_time": "2017-12-01T17:17:05.813166Z"
    }
   },
   "outputs": [],
   "source": [
    "import os\n",
    "import subprocess\n",
    "import numpy as np\n",
    "import matplotlib\n",
    "import matplotlib.pyplot as plt\n",
    "import seaborn as sns\n",
    "\n",
    "import lidar"
   ]
  },
  {
   "cell_type": "code",
   "execution_count": null,
   "metadata": {
    "ExecuteTime": {
     "end_time": "2017-12-01T15:41:30.070333Z",
     "start_time": "2017-12-01T15:41:29.761179Z"
    }
   },
   "outputs": [],
   "source": [
    "# run cell for interactive plots\n",
    "import mpld3\n",
    "mpld3.enable_notebook()"
   ]
  },
  {
   "cell_type": "code",
   "execution_count": 2,
   "metadata": {
    "ExecuteTime": {
     "end_time": "2017-12-01T17:17:21.093718Z",
     "start_time": "2017-12-01T17:17:09.792544Z"
    }
   },
   "outputs": [],
   "source": [
    "lidar_records = lidar.get_lidar_records()\n",
    "bicycle_records = lidar.get_bicycle_records()\n",
    "records = list(zip(lidar_records, bicycle_records))"
   ]
  },
  {
   "cell_type": "code",
   "execution_count": 3,
   "metadata": {
    "ExecuteTime": {
     "end_time": "2017-12-01T17:17:21.166533Z",
     "start_time": "2017-12-01T17:17:21.095549Z"
    }
   },
   "outputs": [
    {
     "name": "stdout",
     "output_type": "stream",
     "text": [
      "[1 2 3 4 5 6 7 8 9]\n",
      "[0 0 0 1 1 2 3 0 0]\n",
      "[1 3 4 5 6 7 8 9] [0 0 1 1 2 3 0 0]\n"
     ]
    }
   ],
   "source": [
    "# If we try to plot all the data, jupyter will crash\n",
    "def reduced_signal(time, signal, tol=1e-6):\n",
    "    \"\"\"Return time and signal arrays with the runs\n",
    "    reduced to 2 subsequent elements.\n",
    "    > reduced_signal([0, 1, 2, 3, 4], [0, 0, 0, 1, 2])\n",
    "    > [0, 2, 3, 4], [0, 0, 1, 2]\n",
    "    \"\"\"\n",
    "    time = np.asarray(time)\n",
    "    signal = np.asarray(signal)\n",
    "    event = np.where(np.abs(np.diff(signal)) > tol)[0] + 1\n",
    "    \n",
    "    index = [0] # include first element\n",
    "    \n",
    "    for i in event:\n",
    "        skip = i - index[-1]\n",
    "        \n",
    "        # If we skip more than one index include \n",
    "        # previous index so that edges are preserved\n",
    "        assert skip > 0\n",
    "        if skip > 1:\n",
    "            index.append(i - 1)\n",
    "        index.append(i)\n",
    "        \n",
    "    # add last element if the signal ends in a run\n",
    "    if index[-1] != len(time) - 1:\n",
    "        index.append(len(time) - 1)\n",
    "    \n",
    "    return time[index], signal[index]\n",
    "\n",
    "\n",
    "a = np.array([0, 0, 0, 1, 1, 2, 3, 0, 0])\n",
    "t = np.arange(len(a)) + 1\n",
    "print(t)\n",
    "print(a)\n",
    "\n",
    "print(*reduced_signal(t, a))"
   ]
  },
  {
   "cell_type": "code",
   "execution_count": 4,
   "metadata": {
    "ExecuteTime": {
     "end_time": "2017-12-01T17:17:21.256222Z",
     "start_time": "2017-12-01T17:17:21.173973Z"
    }
   },
   "outputs": [
    {
     "name": "stdout",
     "output_type": "stream",
     "text": [
      "length of lidar signal: 28356\n",
      "length of bicycle signal: 172099\n",
      "length of reduced lidar signal: 1036 (3.65%)\n",
      "length of reduced bicycle signal: 3875 (2.25%)\n"
     ]
    }
   ],
   "source": [
    "lidar, bicycle = records[0]\n",
    "print('length of lidar signal: {}'.format(len(lidar.time)))\n",
    "print('length of bicycle signal: {}'.format(len(bicycle.time)))\n",
    "\n",
    "# convert time to the nearest millisecond\n",
    "lidar_dt = np.round(np.diff(lidar.time)*1000)/1000\n",
    "bicycle_dt = np.round(np.diff(bicycle.time)*1000)/1000\n",
    "\n",
    "reduced_lidar_dt = reduced_signal(lidar.time[1:], lidar_dt)\n",
    "reduced_bicycle_dt = reduced_signal(bicycle.time[1:], bicycle_dt)\n",
    "print('length of reduced lidar signal: {} ({:0.2f}%)'.format(\n",
    "   len(reduced_lidar_dt[0]), len(reduced_lidar_dt[0])/len(lidar.time)*100\n",
    "))\n",
    "print('length of reduced bicycle signal: {} ({:0.2f}%)'.format(\n",
    "   len(reduced_bicycle_dt[0]), len(reduced_bicycle_dt[0])/len(bicycle.time)*100\n",
    "))"
   ]
  },
  {
   "cell_type": "code",
   "execution_count": 5,
   "metadata": {
    "ExecuteTime": {
     "end_time": "2017-12-01T17:17:21.369284Z",
     "start_time": "2017-12-01T17:17:21.258448Z"
    }
   },
   "outputs": [],
   "source": [
    "def plot_record_timeseries(record):\n",
    "    lidar, bicycle = record\n",
    "    # convert time to the nearest millisecon\n",
    "    sig_dt = lambda x: np.round(np.diff(x.time)*1000)/1000\n",
    "    lidar_dt = sig_dt(lidar)\n",
    "    bicycle_dt = sig_dt(bicycle)\n",
    "    \n",
    "    colors = sns.color_palette('Paired', 10)\n",
    "    \n",
    "    def plot_two(axis, x1, y1, x2, y2, color_index, label):\n",
    "        l1 = axis.plot(x1, y1,\n",
    "                       color=colors[color_index],\n",
    "                       label='lidar {}'.format(label))\n",
    "        l2 = axis.plot(x2, y2,\n",
    "                       color=colors[color_index + 1],\n",
    "                       label='bicycle {}'.format(label))\n",
    "    \n",
    "    \n",
    "    fig, ax = plt.subplots(2, 1, figsize=(14, 7), sharex=True)\n",
    "    plot_two(\n",
    "        ax[0],\n",
    "        *reduced_signal(lidar.time[1:], lidar_dt),\n",
    "        *reduced_signal(bicycle.time[1:], bicycle_dt),\n",
    "        0, 'sample time'\n",
    "    )\n",
    "    ax[0].set_xlabel('time [s]')\n",
    "    ax[0].set_ylabel('sample time [s]')\n",
    "    ax[0].legend()\n",
    "    \n",
    "    plot_two(\n",
    "        ax[1],\n",
    "        *reduced_signal(lidar.time, lidar.sync),\n",
    "        *reduced_signal(bicycle.time, bicycle.sync),\n",
    "        2, 'sync'\n",
    "    )\n",
    "    ax[1].set_xlabel('time [s]')\n",
    "    ax[1].set_ylabel('button status')\n",
    "    ax[1].legend()\n",
    "    \n",
    "    plt.show()\n",
    "    return fig, ax"
   ]
  },
  {
   "cell_type": "code",
   "execution_count": 6,
   "metadata": {
    "ExecuteTime": {
     "end_time": "2017-12-01T17:17:22.064858Z",
     "start_time": "2017-12-01T17:17:21.371485Z"
    }
   },
   "outputs": [
    {
     "data": {
      "image/png": "[encoded data removed]",
      "text/plain": [
       "<matplotlib.figure.Figure at 0x1110a2358>"
      ]
     },
     "metadata": {},
     "output_type": "display_data"
    },
    {
     "data": {
      "text/plain": [
       "(<matplotlib.figure.Figure at 0x1110a2358>,\n",
       " array([<matplotlib.axes._subplots.AxesSubplot object at 0x11b688160>,\n",
       "        <matplotlib.axes._subplots.AxesSubplot object at 0x120770080>], dtype=object))"
      ]
     },
     "execution_count": 6,
     "metadata": {},
     "output_type": "execute_result"
    }
   ],
   "source": [
    "plot_record_timeseries(records[0])"
   ]
  },
  {
   "cell_type": "code",
   "execution_count": 7,
   "metadata": {
    "ExecuteTime": {
     "end_time": "2017-12-01T17:17:22.070570Z",
     "start_time": "2017-12-01T17:17:22.066314Z"
    }
   },
   "outputs": [
    {
     "data": {
      "text/plain": [
       "'TODO\\n - maximize autocorrelation of sync signal\\n - determine bounds on time sync error\\n - determine bounds on distance error (bicycle to obstacle) corresponding to time sync error\\n'"
      ]
     },
     "execution_count": 7,
     "metadata": {},
     "output_type": "execute_result"
    }
   ],
   "source": [
    "\"\"\"TODO\n",
    " - maximize autocorrelation of sync signal\n",
    " - determine bounds on time sync error\n",
    " - determine bounds on distance error (bicycle to obstacle) corresponding to time sync error\n",
    "\"\"\""
   ]
  }
 ],
 "metadata": {
  "kernelspec": {
   "display_name": "Python [conda env:dev]",
   "language": "python",
   "name": "conda-env-dev-py"
  },
  "language_info": {
   "codemirror_mode": {
    "name": "ipython",
    "version": 3
   },
   "file_extension": ".py",
   "mimetype": "text/x-python",
   "name": "python",
   "nbconvert_exporter": "python",
   "pygments_lexer": "ipython3",
   "version": "3.5.3"
  }
 },
 "nbformat": 4,
 "nbformat_minor": 2
}
