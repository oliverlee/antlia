{
 "cells": [
  {
   "cell_type": "code",
   "execution_count": null,
   "metadata": {
    "ExecuteTime": {
     "end_time": "2017-12-05T14:50:35.966477Z",
     "start_time": "2017-12-05T14:50:35.954281Z"
    }
   },
   "outputs": [],
   "source": [
    "\"\"\"TODO\n",
    " - determine bounds on distance error (bicycle to obstacle) corresponding to time sync error\n",
    "\"\"\""
   ]
  },
  {
   "cell_type": "code",
   "execution_count": null,
   "metadata": {
    "ExecuteTime": {
     "end_time": "2017-12-05T15:07:33.749866Z",
     "start_time": "2017-12-05T15:07:33.214276Z"
    }
   },
   "outputs": [],
   "source": [
    "# run cell for interactive plots\n",
    "import mpld3\n",
    "mpld3.enable_notebook()\n",
    "\n",
    "%load_ext autoreload\n",
    "%autoreload 2"
   ]
  },
  {
   "cell_type": "code",
   "execution_count": 1,
   "metadata": {
    "ExecuteTime": {
     "end_time": "2017-12-05T17:54:12.059416Z",
     "start_time": "2017-12-05T17:54:09.126430Z"
    }
   },
   "outputs": [],
   "source": [
    "import os\n",
    "import subprocess\n",
    "import numpy as np\n",
    "import scipy\n",
    "import matplotlib\n",
    "import matplotlib.pyplot as plt\n",
    "import seaborn as sns\n",
    "\n",
    "import lidar\n",
    "import util"
   ]
  },
  {
   "cell_type": "code",
   "execution_count": 2,
   "metadata": {
    "ExecuteTime": {
     "end_time": "2017-12-05T17:54:12.077248Z",
     "start_time": "2017-12-05T17:54:12.062555Z"
    },
    "collapsed": true
   },
   "outputs": [],
   "source": [
    "def set_title(ax, title):\n",
    "    try:\n",
    "        mpld3\n",
    "    except NameError:\n",
    "        ax.figure.suptitle(title)\n",
    "    else:\n",
    "        ax.set_title(title)"
   ]
  },
  {
   "cell_type": "code",
   "execution_count": 3,
   "metadata": {
    "ExecuteTime": {
     "end_time": "2017-12-05T17:54:12.088396Z",
     "start_time": "2017-12-05T17:54:12.080389Z"
    }
   },
   "outputs": [],
   "source": [
    "DEFAULT_FIGSIZE = (14, 7)"
   ]
  },
  {
   "cell_type": "code",
   "execution_count": 4,
   "metadata": {
    "ExecuteTime": {
     "end_time": "2017-12-05T17:54:28.506248Z",
     "start_time": "2017-12-05T17:54:12.092110Z"
    }
   },
   "outputs": [
    {
     "name": "stdout",
     "output_type": "stream",
     "text": [
      "loading records!\n"
     ]
    }
   ],
   "source": [
    "records = lidar.load_records()"
   ]
  },
  {
   "cell_type": "code",
   "execution_count": 5,
   "metadata": {
    "ExecuteTime": {
     "end_time": "2017-12-05T17:55:17.053190Z",
     "start_time": "2017-12-05T17:54:28.508840Z"
    },
    "scrolled": false
   },
   "outputs": [
    {
     "name": "stdout",
     "output_type": "stream",
     "text": [
      "synchronizing by applying time offset of 6.672 sec\n",
      "synchronizing by applying time offset of 15.600 sec\n",
      "synchronizing by applying time offset of -4.448 sec\n",
      "synchronizing by applying time offset of 56.320 sec\n"
     ]
    }
   ],
   "source": [
    "for r in records:\n",
    "    offset = r.sync()\n",
    "    print('synchronizing by applying time offset of {:0.3f} sec'.format(offset))"
   ]
  }
 ],
 "metadata": {
  "kernelspec": {
   "display_name": "Python [conda env:dev]",
   "language": "python",
   "name": "conda-env-dev-py"
  },
  "language_info": {
   "codemirror_mode": {
    "name": "ipython",
    "version": 3
   },
   "file_extension": ".py",
   "mimetype": "text/x-python",
   "name": "python",
   "nbconvert_exporter": "python",
   "pygments_lexer": "ipython3",
   "version": "3.5.3"
  }
 },
 "nbformat": 4,
 "nbformat_minor": 2
}
